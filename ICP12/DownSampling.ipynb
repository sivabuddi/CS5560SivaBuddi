{
  "nbformat": 4,
  "nbformat_minor": 0,
  "metadata": {
    "colab": {
      "name": "DownSampling.ipynb",
      "provenance": [],
      "collapsed_sections": []
    },
    "kernelspec": {
      "name": "python3",
      "display_name": "Python 3"
    },
    "accelerator": "GPU"
  },
  "cells": [
    {
      "cell_type": "code",
      "metadata": {
        "id": "OJJwuXX-3AIX",
        "colab_type": "code",
        "outputId": "ed762752-3169-4ec8-da9c-1ab1c52a0fec",
        "colab": {
          "base_uri": "https://localhost:8080/",
          "height": 34
        }
      },
      "source": [
        "cd drive/My\\ Drive/LSTM"
      ],
      "execution_count": 6,
      "outputs": [
        {
          "output_type": "stream",
          "text": [
            "/content/drive/My Drive/LSTM\n"
          ],
          "name": "stdout"
        }
      ]
    },
    {
      "cell_type": "code",
      "metadata": {
        "id": "7kLJ65Ju3Mvc",
        "colab_type": "code",
        "outputId": "9b70e0a3-4858-4966-ca12-eb1e41943c2a",
        "colab": {
          "base_uri": "https://localhost:8080/",
          "height": 370
        }
      },
      "source": [
        "import numpy as np\n",
        "import pandas as pd\n",
        "import seaborn as sns\n",
        "import matplotlib.pyplot as plt\n",
        "\n",
        "from sklearn.model_selection import train_test_split\n",
        "from sklearn.preprocessing import LabelEncoder\n",
        "from keras.models import Model\n",
        "from keras.layers import LSTM, Activation, Dense, Dropout, Input, Embedding\n",
        "from keras.optimizers import RMSprop\n",
        "from keras.preprocessing.text import Tokenizer\n",
        "from keras.preprocessing import sequence\n",
        "from keras.utils import to_categorical\n",
        "from keras.callbacks import EarlyStopping\n",
        "\n",
        "df = pd.read_csv('spam.csv',delimiter=',', encoding='latin-1')\n",
        "print(df.head())\n",
        "\n",
        "# delete unncessary columns\n",
        "df.drop(['Unnamed: 2', 'Unnamed: 3', 'Unnamed: 4'],axis=1,inplace=True)\n",
        "df.info()\n",
        "\n",
        "# # Multi-column frequency count \n",
        "count = df.groupby(['v1']).count() \n",
        "print(count)\n",
        "\n",
        "# # plt.xlabel('Label')\n",
        "# # #plt.title('Number of ham and spam messages')\n",
        "# # count.plot(kind = 'bar', title =\"spam vs ham\")\n",
        "\n",
        "# sns.countplot(df.v1)\n",
        "# plt.xlabel('Label')\n",
        "# plt.title('Number of ham and spam messages')\n",
        "\n",
        "\n",
        "\n"
      ],
      "execution_count": 51,
      "outputs": [
        {
          "output_type": "stream",
          "text": [
            "     v1  ... Unnamed: 4\n",
            "0   ham  ...        NaN\n",
            "1   ham  ...        NaN\n",
            "2  spam  ...        NaN\n",
            "3   ham  ...        NaN\n",
            "4   ham  ...        NaN\n",
            "\n",
            "[5 rows x 5 columns]\n",
            "<class 'pandas.core.frame.DataFrame'>\n",
            "RangeIndex: 5572 entries, 0 to 5571\n",
            "Data columns (total 2 columns):\n",
            " #   Column  Non-Null Count  Dtype \n",
            "---  ------  --------------  ----- \n",
            " 0   v1      5572 non-null   object\n",
            " 1   v2      5572 non-null   object\n",
            "dtypes: object(2)\n",
            "memory usage: 87.2+ KB\n",
            "        v2\n",
            "v1        \n",
            "ham   4825\n",
            "spam   747\n"
          ],
          "name": "stdout"
        }
      ]
    },
    {
      "cell_type": "code",
      "metadata": {
        "id": "kGKnD8VEZwdI",
        "colab_type": "code",
        "colab": {
          "base_uri": "https://localhost:8080/",
          "height": 329
        },
        "outputId": "9d4485af-8449-4cbb-a0d9-8f39ed5e80d4"
      },
      "source": [
        "print(\"Before Under Sampling\")\n",
        "sns.countplot(df.v1)\n",
        "plt.xlabel('Label')\n",
        "plt.title('Number of ham and spam messages')"
      ],
      "execution_count": 81,
      "outputs": [
        {
          "output_type": "stream",
          "text": [
            "Before Under Sampling\n"
          ],
          "name": "stdout"
        },
        {
          "output_type": "execute_result",
          "data": {
            "text/plain": [
              "Text(0.5, 1.0, 'Number of ham and spam messages')"
            ]
          },
          "metadata": {
            "tags": []
          },
          "execution_count": 81
        },
        {
          "output_type": "display_data",
          "data": {
            "image/png": "[encoded data removed]",
            "text/plain": [
              "<Figure size 432x288 with 1 Axes>"
            ]
          },
          "metadata": {
            "tags": [],
            "needs_background": "light"
          }
        }
      ]
    },
    {
      "cell_type": "code",
      "metadata": {
        "id": "QLxV2U-aLG1S",
        "colab_type": "code",
        "colab": {
          "base_uri": "https://localhost:8080/",
          "height": 101
        },
        "outputId": "c412c5db-1a26-44b0-a456-2935963681e8"
      },
      "source": [
        "ham_indices = df[df.v1 == 'ham'].index\n",
        "print(\"No.of.data points belongs to ham\",len(ham_indices))\n",
        "print(ham_indices)"
      ],
      "execution_count": 82,
      "outputs": [
        {
          "output_type": "stream",
          "text": [
            "No.of.data points belongs to ham 4825\n",
            "Int64Index([   0,    1,    3,    4,    6,    7,   10,   13,   14,   16,\n",
            "            ...\n",
            "            5560, 5561, 5562, 5563, 5564, 5565, 5568, 5569, 5570, 5571],\n",
            "           dtype='int64', length=4825)\n"
          ],
          "name": "stdout"
        }
      ]
    },
    {
      "cell_type": "code",
      "metadata": {
        "id": "A3YUbaAJT6cG",
        "colab_type": "code",
        "colab": {
          "base_uri": "https://localhost:8080/",
          "height": 101
        },
        "outputId": "1cc0ba96-7c8e-4da8-9f19-d9d4673b24f7"
      },
      "source": [
        "spam_indices = df[df.v1 == 'spam'].index\n",
        "print(\"No.of.data points belongs to spam\",len(ham_indices))\n",
        "print(spam_indices)"
      ],
      "execution_count": 83,
      "outputs": [
        {
          "output_type": "stream",
          "text": [
            "No.of.data points belongs to spam 4825\n",
            "Int64Index([   2,    5,    8,    9,   11,   12,   15,   19,   34,   42,\n",
            "            ...\n",
            "            5492, 5497, 5501, 5524, 5526, 5537, 5540, 5547, 5566, 5567],\n",
            "           dtype='int64', length=747)\n"
          ],
          "name": "stdout"
        }
      ]
    },
    {
      "cell_type": "code",
      "metadata": {
        "id": "Fmn42PoBUPVk",
        "colab_type": "code",
        "colab": {}
      },
      "source": [
        "# get the data based on class ham /spam\n",
        "ham = df[df['v1'] == 'ham']\n",
        "spam = df[df['v1'] == 'spam']"
      ],
      "execution_count": 0,
      "outputs": []
    },
    {
      "cell_type": "code",
      "metadata": {
        "id": "_Z5_j9ymVG8U",
        "colab_type": "code",
        "colab": {
          "base_uri": "https://localhost:8080/",
          "height": 487
        },
        "outputId": "914213b6-2862-4e0a-e11c-e13f0855431b"
      },
      "source": [
        "print(ham)\n",
        "print(spam)"
      ],
      "execution_count": 85,
      "outputs": [
        {
          "output_type": "stream",
          "text": [
            "       v1                                                 v2\n",
            "0     ham  Go until jurong point, crazy.. Available only ...\n",
            "1     ham                      Ok lar... Joking wif u oni...\n",
            "3     ham  U dun say so early hor... U c already then say...\n",
            "4     ham  Nah I don't think he goes to usf, he lives aro...\n",
            "6     ham  Even my brother is not like to speak with me. ...\n",
            "...   ...                                                ...\n",
            "5565  ham                                       Huh y lei...\n",
            "5568  ham              Will Ì_ b going to esplanade fr home?\n",
            "5569  ham  Pity, * was in mood for that. So...any other s...\n",
            "5570  ham  The guy did some bitching but I acted like i'd...\n",
            "5571  ham                         Rofl. Its true to its name\n",
            "\n",
            "[4825 rows x 2 columns]\n",
            "        v1                                                 v2\n",
            "2     spam  Free entry in 2 a wkly comp to win FA Cup fina...\n",
            "5     spam  FreeMsg Hey there darling it's been 3 week's n...\n",
            "8     spam  WINNER!! As a valued network customer you have...\n",
            "9     spam  Had your mobile 11 months or more? U R entitle...\n",
            "11    spam  SIX chances to win CASH! From 100 to 20,000 po...\n",
            "...    ...                                                ...\n",
            "5537  spam  Want explicit SEX in 30 secs? Ring 02073162414...\n",
            "5540  spam  ASKED 3MOBILE IF 0870 CHATLINES INCLU IN FREE ...\n",
            "5547  spam  Had your contract mobile 11 Mnths? Latest Moto...\n",
            "5566  spam  REMINDER FROM O2: To get 2.50 pounds free call...\n",
            "5567  spam  This is the 2nd time we have tried 2 contact u...\n",
            "\n",
            "[747 rows x 2 columns]\n"
          ],
          "name": "stdout"
        }
      ]
    },
    {
      "cell_type": "code",
      "metadata": {
        "id": "CP4tpBpXUe8Y",
        "colab_type": "code",
        "colab": {}
      },
      "source": [
        "# Random under-sampling"
      ],
      "execution_count": 0,
      "outputs": []
    },
    {
      "cell_type": "code",
      "metadata": {
        "id": "s0kw-pDgVb5H",
        "colab_type": "code",
        "colab": {}
      },
      "source": [
        " ham_under=ham.sample(2*len(spam)) # down sample to the lenght of spam from the length of ham data"
      ],
      "execution_count": 0,
      "outputs": []
    },
    {
      "cell_type": "code",
      "metadata": {
        "id": "blClKKP0W0Vg",
        "colab_type": "code",
        "colab": {}
      },
      "source": [
        "df_under = pd.concat([ham_under,spam], axis=0)"
      ],
      "execution_count": 0,
      "outputs": []
    },
    {
      "cell_type": "code",
      "metadata": {
        "id": "YH2YsPe7XRuW",
        "colab_type": "code",
        "colab": {
          "base_uri": "https://localhost:8080/",
          "height": 329
        },
        "outputId": "c217c1eb-2400-4b96-dfc6-38a51fb60aff"
      },
      "source": [
        "sns.countplot(df_under.v1)\n",
        "plt.xlabel('Label')\n",
        "plt.title('Number of ham and spam messages')\n",
        "print(\"Number of spam  messages\",len(df_under[df_under['v1']=='spam']))\n",
        "print(\"Number of ham messages\",len(df_under[df_under['v1']=='ham']))"
      ],
      "execution_count": 118,
      "outputs": [
        {
          "output_type": "stream",
          "text": [
            "Number of spam  messages 747\n",
            "Number of ham messages 1494\n"
          ],
          "name": "stdout"
        },
        {
          "output_type": "display_data",
          "data": {
            "image/png": "[encoded data removed]",
            "text/plain": [
              "<Figure size 432x288 with 1 Axes>"
            ]
          },
          "metadata": {
            "tags": [],
            "needs_background": "light"
          }
        }
      ]
    },
    {
      "cell_type": "code",
      "metadata": {
        "id": "KWDEpyv8D8bb",
        "colab_type": "code",
        "colab": {}
      },
      "source": [
        "X = df.v2\n",
        "Y = df.v1\n",
        "le = LabelEncoder()\n",
        "Y = le.fit_transform(Y)\n",
        "Y = Y.reshape(-1,1)"
      ],
      "execution_count": 0,
      "outputs": []
    },
    {
      "cell_type": "code",
      "metadata": {
        "id": "PpIED5zdFNMb",
        "colab_type": "code",
        "colab": {}
      },
      "source": [
        "X_train,X_test,Y_train,Y_test = train_test_split(X,Y,test_size=0.15)"
      ],
      "execution_count": 0,
      "outputs": []
    },
    {
      "cell_type": "code",
      "metadata": {
        "id": "mEhtXzsJFQyE",
        "colab_type": "code",
        "colab": {}
      },
      "source": [
        "max_words = 1000\n",
        "max_len = 150\n",
        "tok = Tokenizer(num_words=max_words)\n",
        "tok.fit_on_texts(X_train)\n",
        "sequences = tok.texts_to_sequences(X_train)\n",
        "sequences_matrix = sequence.pad_sequences(sequences,maxlen=max_len)"
      ],
      "execution_count": 0,
      "outputs": []
    },
    {
      "cell_type": "code",
      "metadata": {
        "id": "_TAifJ5NFZVz",
        "colab_type": "code",
        "colab": {}
      },
      "source": [
        "def RNN():\n",
        "    inputs = Input(name='inputs',shape=[max_len])\n",
        "    layer = Embedding(max_words,50,input_length=max_len)(inputs)\n",
        "    layer = LSTM(64)(layer)\n",
        "    layer = Dense(256,name='FC1')(layer)\n",
        "    layer = Activation('relu')(layer)\n",
        "    layer = Dropout(0.5)(layer)\n",
        "    layer = Dense(1,name='out_layer')(layer)\n",
        "    layer = Activation('sigmoid')(layer)\n",
        "    model = Model(inputs=inputs,outputs=layer)\n",
        "    return model"
      ],
      "execution_count": 0,
      "outputs": []
    },
    {
      "cell_type": "code",
      "metadata": {
        "id": "maeOQCy8Fdok",
        "colab_type": "code",
        "outputId": "5903ce71-45ba-4756-b7bd-36cfbd399def",
        "colab": {
          "base_uri": "https://localhost:8080/",
          "height": 420
        }
      },
      "source": [
        "model = RNN()\n",
        "model.summary()\n",
        "model.compile(loss='binary_crossentropy',optimizer=RMSprop(),metrics=['accuracy'])"
      ],
      "execution_count": 123,
      "outputs": [
        {
          "output_type": "stream",
          "text": [
            "Model: \"model_5\"\n",
            "_________________________________________________________________\n",
            "Layer (type)                 Output Shape              Param #   \n",
            "=================================================================\n",
            "inputs (InputLayer)          (None, 150)               0         \n",
            "_________________________________________________________________\n",
            "embedding_5 (Embedding)      (None, 150, 50)           50000     \n",
            "_________________________________________________________________\n",
            "lstm_5 (LSTM)                (None, 64)                29440     \n",
            "_________________________________________________________________\n",
            "FC1 (Dense)                  (None, 256)               16640     \n",
            "_________________________________________________________________\n",
            "activation_9 (Activation)    (None, 256)               0         \n",
            "_________________________________________________________________\n",
            "dropout_5 (Dropout)          (None, 256)               0         \n",
            "_________________________________________________________________\n",
            "out_layer (Dense)            (None, 1)                 257       \n",
            "_________________________________________________________________\n",
            "activation_10 (Activation)   (None, 1)                 0         \n",
            "=================================================================\n",
            "Total params: 96,337\n",
            "Trainable params: 96,337\n",
            "Non-trainable params: 0\n",
            "_________________________________________________________________\n"
          ],
          "name": "stdout"
        }
      ]
    },
    {
      "cell_type": "code",
      "metadata": {
        "id": "3VabfdIzFk4Y",
        "colab_type": "code",
        "outputId": "2940ff5c-f27e-417e-f43e-2905e27f438a",
        "colab": {
          "base_uri": "https://localhost:8080/",
          "height": 205
        }
      },
      "source": [
        "model.fit(sequences_matrix,Y_train,batch_size=128,epochs=10,\n",
        "          validation_split=0.2,callbacks=[EarlyStopping(monitor='val_loss',min_delta=0.0001)])"
      ],
      "execution_count": 124,
      "outputs": [
        {
          "output_type": "stream",
          "text": [
            "/usr/local/lib/python3.6/dist-packages/tensorflow/python/framework/indexed_slices.py:434: UserWarning: Converting sparse IndexedSlices to a dense Tensor of unknown shape. This may consume a large amount of memory.\n",
            "  \"Converting sparse IndexedSlices to a dense Tensor of unknown shape. \"\n"
          ],
          "name": "stderr"
        },
        {
          "output_type": "stream",
          "text": [
            "Train on 3788 samples, validate on 948 samples\n",
            "Epoch 1/10\n",
            "3788/3788 [==============================] - 8s 2ms/step - loss: 0.3086 - accuracy: 0.8825 - val_loss: 0.1139 - val_accuracy: 0.9620\n",
            "Epoch 2/10\n",
            "3788/3788 [==============================] - 8s 2ms/step - loss: 0.0757 - accuracy: 0.9815 - val_loss: 0.0564 - val_accuracy: 0.9863\n",
            "Epoch 3/10\n",
            "3788/3788 [==============================] - 8s 2ms/step - loss: 0.0395 - accuracy: 0.9879 - val_loss: 0.0709 - val_accuracy: 0.9810\n"
          ],
          "name": "stdout"
        },
        {
          "output_type": "execute_result",
          "data": {
            "text/plain": [
              "<keras.callbacks.callbacks.History at 0x7fbee0866ef0>"
            ]
          },
          "metadata": {
            "tags": []
          },
          "execution_count": 124
        }
      ]
    },
    {
      "cell_type": "code",
      "metadata": {
        "id": "E_RAF4kXGIiV",
        "colab_type": "code",
        "colab": {}
      },
      "source": [
        "test_sequences = tok.texts_to_sequences(X_test)\n",
        "test_sequences_matrix = sequence.pad_sequences(test_sequences,maxlen=max_len)"
      ],
      "execution_count": 0,
      "outputs": []
    },
    {
      "cell_type": "code",
      "metadata": {
        "id": "CVtBY-1VGOr9",
        "colab_type": "code",
        "outputId": "ef32a50e-a619-42cc-8392-3ca8da9b911b",
        "colab": {
          "base_uri": "https://localhost:8080/",
          "height": 34
        }
      },
      "source": [
        "accr = model.evaluate(test_sequences_matrix,Y_test)"
      ],
      "execution_count": 126,
      "outputs": [
        {
          "output_type": "stream",
          "text": [
            "836/836 [==============================] - 1s 745us/step\n"
          ],
          "name": "stdout"
        }
      ]
    },
    {
      "cell_type": "code",
      "metadata": {
        "id": "b8nB2LjQGUXU",
        "colab_type": "code",
        "outputId": "5659e066-0180-4907-d8ac-e59110ae0e36",
        "colab": {
          "base_uri": "https://localhost:8080/",
          "height": 67
        }
      },
      "source": [
        "print('Test set\\n  Loss: {:0.3f}\\n  Accuracy: {:0.3f}'.format(accr[0],accr[1]))"
      ],
      "execution_count": 127,
      "outputs": [
        {
          "output_type": "stream",
          "text": [
            "Test set\n",
            "  Loss: 0.081\n",
            "  Accuracy: 0.972\n"
          ],
          "name": "stdout"
        }
      ]
    }
  ]
}